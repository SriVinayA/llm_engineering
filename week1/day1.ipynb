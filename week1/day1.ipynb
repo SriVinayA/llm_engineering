{
 "cells": [
  {
   "cell_type": "markdown",
   "id": "d15d8294-3328-4e07-ad16-8a03e9bbfdb9",
   "metadata": {},
   "source": [
    "# YOUR FIRST LAB\n",
    "### Please read this section. This is valuable to get you prepared, even if it's a long read -- it's important stuff.\n",
    "\n",
    "### Also, be sure to read [README.md](../README.md)! More info about the updated videos in the README and [top of the course resources in purple](https://edwarddonner.com/2024/11/13/llm-engineering-resources/)\n",
    "\n",
    "## Your first Frontier LLM Project\n",
    "\n",
    "By the end of this course, you will have built an autonomous Agentic AI solution with 7 agents that collaborate to solve a business problem. All in good time! We will start with something smaller...\n",
    "\n",
    "Our goal is to code a new kind of Web Browser. Give it a URL, and it will respond with a summary. The Reader's Digest of the internet!!\n",
    "\n",
    "Before starting, you should have completed the setup linked in the README.\n",
    "\n",
    "### If you're new to working in \"Notebooks\" (also known as Labs or Jupyter Lab)\n",
    "\n",
    "Welcome to the wonderful world of Data Science experimentation! Simply click in each \"cell\" with code in it, such as the cell immediately below this text, and hit Shift+Return to execute that cell. Be sure to run every cell, starting at the top, in order.\n",
    "\n",
    "Please look in the [Guides folder](../guides/01_intro.ipynb) for all the guides.\n",
    "\n",
    "## I am here to help\n",
    "\n",
    "If you have any problems at all, please do reach out.  \n",
    "I'm available through the platform, or at ed@edwarddonner.com, or at https://www.linkedin.com/in/eddonner/ if you'd like to connect (and I love connecting!)  \n",
    "And this is new to me, but I'm also trying out X at [@edwarddonner](https://x.com/edwarddonner) - if you're on X, please show me how it's done 😂  \n",
    "\n",
    "## More troubleshooting\n",
    "\n",
    "Please see the [troubleshooting](../setup/troubleshooting.ipynb) notebook in the setup folder to diagnose and fix common problems. At the very end of it is a diagnostics script with some useful debug info.\n",
    "\n",
    "## If this is old hat!\n",
    "\n",
    "If you're already comfortable with today's material, please hang in there; you can move swiftly through the first few labs - we will get much more in depth as the weeks progress. Ultimately we will fine-tune our own LLM to compete with OpenAI!\n",
    "\n",
    "<table style=\"margin: 0; text-align: left;\">\n",
    "    <tr>\n",
    "        <td style=\"width: 150px; height: 150px; vertical-align: middle;\">\n",
    "            <img src=\"../assets/important.jpg\" width=\"150\" height=\"150\" style=\"display: block;\" />\n",
    "        </td>\n",
    "        <td>\n",
    "            <h2 style=\"color:#900;\">Please read - important note</h2>\n",
    "            <span style=\"color:#900;\">The way I collaborate with you may be different to other courses you've taken. I prefer not to type code while you watch. Rather, I execute Jupyter Labs, like this, and give you an intuition for what's going on. My suggestion is that you carefully execute this yourself, <b>after</b> watching the lecture. Add print statements to understand what's going on, and then come up with your own variations. If you have a Github account, use this to showcase your variations. Not only is this essential practice, but it demonstrates your skills to others, including perhaps future clients or employers...</span>\n",
    "        </td>\n",
    "    </tr>\n",
    "</table>\n",
    "<table style=\"margin: 0; text-align: left;\">\n",
    "    <tr>\n",
    "        <td style=\"width: 150px; height: 150px; vertical-align: middle;\">\n",
    "            <img src=\"../assets/resources.jpg\" width=\"150\" height=\"150\" style=\"display: block;\" />\n",
    "        </td>\n",
    "        <td>\n",
    "            <h2 style=\"color:#f71;\">This code is a live resource - keep an eye out for my emails</h2>\n",
    "            <span style=\"color:#f71;\">I push updates to the code regularly. As people ask questions, I add more examples or improved commentary. As a result, you'll notice that the code below isn't identical to the videos. Everything from the videos is here; but I've also added better explanations and new models like DeepSeek. Consider this like an interactive book.<br/><br/>\n",
    "                I try to send emails regularly with important updates related to the course. You can find this in the 'Announcements' section of Udemy in the left sidebar. You can also choose to receive my emails via your Notification Settings in Udemy. I'm respectful of your inbox and always try to add value with my emails!\n",
    "            </span>\n",
    "        </td>\n",
    "    </tr>\n",
    "</table>\n",
    "<table style=\"margin: 0; text-align: left;\">\n",
    "    <tr>\n",
    "        <td style=\"width: 150px; height: 150px; vertical-align: middle;\">\n",
    "            <img src=\"../assets/business.jpg\" width=\"150\" height=\"150\" style=\"display: block;\" />\n",
    "        </td>\n",
    "        <td>\n",
    "            <h2 style=\"color:#181;\">Business value of these exercises</h2>\n",
    "            <span style=\"color:#181;\">A final thought. While I've designed these notebooks to be educational, I've also tried to make them enjoyable. We'll do fun things like have LLMs tell jokes and argue with each other. But fundamentally, my goal is to teach skills you can apply in business. I'll explain business implications as we go, and it's worth keeping this in mind: as you build experience with models and techniques, think of ways you could put this into action at work today. Please do contact me if you'd like to discuss more or if you have ideas to bounce off me.</span>\n",
    "        </td>\n",
    "    </tr>\n",
    "</table>"
   ]
  },
  {
   "cell_type": "markdown",
   "id": "83f28feb",
   "metadata": {},
   "source": [
    "### If necessary, install Cursor Extensions\n",
    "\n",
    "1. From the View menu, select Extensions\n",
    "2. Search for Python\n",
    "3. Click on \"Python\" made by \"ms-python\" and select Install if not already installed\n",
    "4. Search for Jupyter\n",
    "5. Click on \"Jupyter\" made by \"ms-toolsai\" and select Install of not already installed\n",
    "\n",
    "\n",
    "### Next Select the Kernel\n",
    "\n",
    "Click on \"Select Kernel\" on the Top Right\n",
    "\n",
    "Choose \"Python Environments...\"\n",
    "\n",
    "Then choose the one that looks like `.venv (Python 3.12.x) .venv/bin/python` - it should be marked as \"Recommended\" and have a big star next to it.\n",
    "\n",
    "Any problems with this? Head over to the troubleshooting.\n",
    "\n",
    "### Note: you'll need to set the Kernel with every notebook.."
   ]
  },
  {
   "cell_type": "code",
   "execution_count": 2,
   "id": "4e2a9393-7767-488e-a8bf-27c12dca35bd",
   "metadata": {},
   "outputs": [],
   "source": [
    "# imports\n",
    "\n",
    "import os\n",
    "from dotenv import load_dotenv\n",
    "from scraper import fetch_website_contents\n",
    "from IPython.display import Markdown, display\n",
    "from openai import OpenAI\n",
    "\n",
    "# If you get an error running this cell, then please head over to the troubleshooting notebook!"
   ]
  },
  {
   "cell_type": "markdown",
   "id": "6900b2a8-6384-4316-8aaa-5e519fca4254",
   "metadata": {},
   "source": [
    "# Connecting to OpenAI (or Ollama)\n",
    "\n",
    "The next cell is where we load in the environment variables in your `.env` file and connect to OpenAI.  \n",
    "\n",
    "If you'd like to use free Ollama instead, please see the README section \"Free Alternative to Paid APIs\", and if you're not sure how to do this, there's a full solution in the solutions folder (day1_with_ollama.ipynb).\n",
    "\n",
    "## Troubleshooting if you have problems:\n",
    "\n",
    "If you get a \"Name Error\" - have you run all cells from the top down? Head over to the Python Foundations guide for a bulletproof way to find and fix all Name Errors.\n",
    "\n",
    "If that doesn't fix it, head over to the [troubleshooting](../setup/troubleshooting.ipynb) notebook for step by step code to identify the root cause and fix it!\n",
    "\n",
    "Or, contact me! Message me or email ed@edwarddonner.com and we will get this to work.\n",
    "\n",
    "Any concerns about API costs? See my notes in the README - costs should be minimal, and you can control it at every point. You can also use Ollama as a free alternative, which we discuss during Day 2."
   ]
  },
  {
   "cell_type": "code",
   "execution_count": 3,
   "id": "7b87cadb-d513-4303-baee-a37b6f938e4d",
   "metadata": {},
   "outputs": [
    {
     "name": "stdout",
     "output_type": "stream",
     "text": [
      "API key found and looks good so far!\n"
     ]
    }
   ],
   "source": [
    "# Load environment variables in a file called .env\n",
    "\n",
    "load_dotenv(override=True)\n",
    "api_key = os.getenv('OPENAI_API_KEY')\n",
    "\n",
    "# Check the key\n",
    "\n",
    "if not api_key:\n",
    "    print(\"No API key was found - please head over to the troubleshooting notebook in this folder to identify & fix!\")\n",
    "elif not api_key.startswith(\"sk-proj-\"):\n",
    "    print(\"An API key was found, but it doesn't start sk-proj-; please check you're using the right key - see troubleshooting notebook\")\n",
    "elif api_key.strip() != api_key:\n",
    "    print(\"An API key was found, but it looks like it might have space or tab characters at the start or end - please remove them - see troubleshooting notebook\")\n",
    "else:\n",
    "    print(\"API key found and looks good so far!\")\n"
   ]
  },
  {
   "cell_type": "markdown",
   "id": "442fc84b-0815-4f40-99ab-d9a5da6bda91",
   "metadata": {},
   "source": [
    "# Let's make a quick call to a Frontier model to get started, as a preview!"
   ]
  },
  {
   "cell_type": "code",
   "execution_count": 4,
   "id": "a58394bf-1e45-46af-9bfd-01e24da6f49a",
   "metadata": {},
   "outputs": [
    {
     "data": {
      "text/plain": [
       "[{'role': 'user',\n",
       "  'content': 'Hello, GPT! This is my first ever message to you! Hi!'}]"
      ]
     },
     "execution_count": 4,
     "metadata": {},
     "output_type": "execute_result"
    }
   ],
   "source": [
    "# To give you a preview -- calling OpenAI with these messages is this easy. Any problems, head over to the Troubleshooting notebook.\n",
    "\n",
    "message = \"Hello, GPT! This is my first ever message to you! Hi!\"\n",
    "\n",
    "messages = [\n",
    "    {\"role\": \"user\", \n",
    "     \"content\": message}\n",
    "    ]\n",
    "\n",
    "messages\n"
   ]
  },
  {
   "cell_type": "code",
   "execution_count": 5,
   "id": "08330159",
   "metadata": {},
   "outputs": [
    {
     "name": "stdout",
     "output_type": "stream",
     "text": [
      "ChatCompletion(id='chatcmpl-CSzvVWEda5UerTg1nCne8yqaaw8BY', choices=[Choice(finish_reason='stop', index=0, logprobs=None, message=ChatCompletionMessage(content='Hi there! Welcome — nice to meet you.\\n\\nI’m here to help with a variety of things: explanations, writing, brainstorming, coding, planning, learning new topics, translating, and more. Tell me your interests or a goal, and I’ll tailor my responses.\\n\\nA few quick ways I can help:\\n- Explain something in simple terms\\n- Help draft or edit a message, essay, or email\\n- Plan a project or create a checklist\\n- Brainstorm ideas or write a short story/poem\\n- Debug or explain code\\n- Translate or practice a language\\n\\nIf you’re not sure what to ask, you can try:\\n- Explain photosynthesis in simple terms\\n- Draft a friendly email to my teacher about missing class\\n- Suggest ideas for a birthday party\\n\\nWhat would you like to do today?', refusal=None, role='assistant', annotations=[], audio=None, function_call=None, tool_calls=None))], created=1761027265, model='gpt-5-nano-2025-08-07', object='chat.completion', service_tier='default', system_fingerprint=None, usage=CompletionUsage(completion_tokens=817, prompt_tokens=21, total_tokens=838, completion_tokens_details=CompletionTokensDetails(accepted_prediction_tokens=0, audio_tokens=0, reasoning_tokens=640, rejected_prediction_tokens=0), prompt_tokens_details=PromptTokensDetails(audio_tokens=0, cached_tokens=0)))\n"
     ]
    },
    {
     "data": {
      "text/plain": [
       "'Hi there! Welcome — nice to meet you.\\n\\nI’m here to help with a variety of things: explanations, writing, brainstorming, coding, planning, learning new topics, translating, and more. Tell me your interests or a goal, and I’ll tailor my responses.\\n\\nA few quick ways I can help:\\n- Explain something in simple terms\\n- Help draft or edit a message, essay, or email\\n- Plan a project or create a checklist\\n- Brainstorm ideas or write a short story/poem\\n- Debug or explain code\\n- Translate or practice a language\\n\\nIf you’re not sure what to ask, you can try:\\n- Explain photosynthesis in simple terms\\n- Draft a friendly email to my teacher about missing class\\n- Suggest ideas for a birthday party\\n\\nWhat would you like to do today?'"
      ]
     },
     "execution_count": 5,
     "metadata": {},
     "output_type": "execute_result"
    }
   ],
   "source": [
    "openai = OpenAI()\n",
    "\n",
    "response = openai.chat.completions.create(model=\"gpt-5-nano\", messages=messages)\n",
    "print(response)\n",
    "response.choices[0].message.content"
   ]
  },
  {
   "cell_type": "markdown",
   "id": "2aa190e5-cb31-456a-96cc-db109919cd78",
   "metadata": {},
   "source": [
    "## OK onwards with our first project"
   ]
  },
  {
   "cell_type": "code",
   "execution_count": 6,
   "id": "2ef960cf-6dc2-4cda-afb3-b38be12f4c97",
   "metadata": {},
   "outputs": [
    {
     "name": "stdout",
     "output_type": "stream",
     "text": [
      "Home - Edward Donner\n",
      "\n",
      "Home\n",
      "Connect Four\n",
      "Outsmart\n",
      "An arena that pits LLMs against each other in a battle of diplomacy and deviousness\n",
      "About\n",
      "Posts\n",
      "Well, hi there.\n",
      "I’m Ed. I like writing code and experimenting with LLMs, and hopefully you’re here because you do too. I also enjoy DJing (but I’m badly out of practice), amateur electronic music production (\n",
      "very\n",
      "amateur) and losing myself in\n",
      "Hacker News\n",
      ", nodding my head sagely to things I only half understand.\n",
      "I’m the co-founder and CTO of\n",
      "Nebula.io\n",
      ". We’re applying AI to a field where it can make a massive, positive impact: helping people discover their potential and pursue their reason for being. Recruiters use our product today to source, understand, engage and manage talent. I’m previously the founder and CEO of AI startup untapt,\n",
      "acquired in 2021\n",
      ".\n",
      "We work with groundbreaking, proprietary LLMs verticalized for talent, we’ve\n",
      "patented\n",
      "our matching model, and our award-winning platform has happy customers and tons of press coverage.\n",
      "Connect\n",
      "with me for more!\n",
      "September 15, 2025\n",
      "AI in Production: Gen AI and Agentic AI on AWS at scale\n",
      "May 28, 2025\n",
      "Connecting my courses – become an LLM expert and leader\n",
      "May 18, 2025\n",
      "2025 AI Executive Briefing\n",
      "April 21, 2025\n",
      "The Complete Agentic AI Engineering Course\n",
      "Navigation\n",
      "Home\n",
      "Connect Four\n",
      "Outsmart\n",
      "An arena that pits LLMs against each other in a battle of diplomacy and deviousness\n",
      "About\n",
      "Posts\n",
      "Get in touch\n",
      "ed [at] edwarddonner [dot] com\n",
      "www.edwarddonner.com\n",
      "Follow me\n",
      "LinkedIn\n",
      "Twitter\n",
      "Facebook\n",
      "Subscribe to newsletter\n",
      "Type your email…\n",
      "Subscribe\n"
     ]
    }
   ],
   "source": [
    "# Let's try out this utility\n",
    "\n",
    "ed = fetch_website_contents(\"https://edwarddonner.com\")\n",
    "print(ed)"
   ]
  },
  {
   "cell_type": "markdown",
   "id": "6a478a0c-2c53-48ff-869c-4d08199931e1",
   "metadata": {},
   "source": [
    "## Types of prompts\n",
    "\n",
    "You may know this already - but if not, you will get very familiar with it!\n",
    "\n",
    "Models like GPT have been trained to receive instructions in a particular way.\n",
    "\n",
    "They expect to receive:\n",
    "\n",
    "**A system prompt** that tells them what task they are performing and what tone they should use\n",
    "\n",
    "**A user prompt** -- the conversation starter that they should reply to"
   ]
  },
  {
   "cell_type": "code",
   "execution_count": 20,
   "id": "abdb8417-c5dc-44bc-9bee-2e059d162699",
   "metadata": {},
   "outputs": [],
   "source": [
    "# Define our system prompt - you can experiment with this later, changing the last sentence to 'Respond in markdown in Spanish.\"\n",
    "\n",
    "system_prompt = \"\"\"\n",
    "You are a snarkyassistant that analyzes the contents of a website,\n",
    "and provides a short, snarky, humorous summary, ignoring text that might be navigation related.\n",
    "Respond in markdown. Do not wrap the markdown in a code block - respond just with the markdown.\n",
    "\"\"\""
   ]
  },
  {
   "cell_type": "code",
   "execution_count": 21,
   "id": "f0275b1b-7cfe-4f9d-abfa-7650d378da0c",
   "metadata": {},
   "outputs": [],
   "source": [
    "# Define our user prompt\n",
    "\n",
    "user_prompt_prefix = \"\"\"\n",
    "Here are the contents of a website.\n",
    "Provide a short summary of this website.\n",
    "If it includes news or announcements, then summarize these too.\n",
    "\n",
    "\"\"\""
   ]
  },
  {
   "cell_type": "markdown",
   "id": "ea211b5f-28e1-4a86-8e52-c0b7677cadcc",
   "metadata": {},
   "source": [
    "## Messages\n",
    "\n",
    "The API from OpenAI expects to receive messages in a particular structure.\n",
    "Many of the other APIs share this structure:\n",
    "\n",
    "```python\n",
    "[\n",
    "    {\"role\": \"system\", \"content\": \"system message goes here\"},\n",
    "    {\"role\": \"user\", \"content\": \"user message goes here\"}\n",
    "]\n",
    "```\n",
    "To give you a preview, the next 2 cells make a rather simple call - we won't stretch the mighty GPT (yet!)"
   ]
  },
  {
   "cell_type": "code",
   "execution_count": 13,
   "id": "f25dcd35-0cd0-4235-9f64-ac37ed9eaaa5",
   "metadata": {},
   "outputs": [
    {
     "data": {
      "text/plain": [
       "\"2 + 2 is 4—unless you're trying to impress someone with a magic trick!\""
      ]
     },
     "execution_count": 13,
     "metadata": {},
     "output_type": "execute_result"
    }
   ],
   "source": [
    "messages = [\n",
    "    {\"role\": \"system\", \"content\": \"You are a funny assistant\"},\n",
    "    {\"role\": \"user\", \"content\": \"What is 2 + 2?\"}\n",
    "]\n",
    "\n",
    "response = openai.chat.completions.create(model=\"gpt-4.1-nano\", messages=messages)\n",
    "response.choices[0].message.content"
   ]
  },
  {
   "cell_type": "markdown",
   "id": "d06e8d78-ce4c-4b05-aa8e-17050c82bb47",
   "metadata": {},
   "source": [
    "## And now let's build useful messages for GPT-4.1-mini, using a function"
   ]
  },
  {
   "cell_type": "code",
   "execution_count": 22,
   "id": "0134dfa4-8299-48b5-b444-f2a8c3403c88",
   "metadata": {},
   "outputs": [],
   "source": [
    "# See how this function creates exactly the format above\n",
    "\n",
    "def messages_for(website):\n",
    "    return [\n",
    "        {\"role\": \"system\", \"content\": system_prompt},\n",
    "        {\"role\": \"user\", \"content\": user_prompt_prefix + website}\n",
    "    ]"
   ]
  },
  {
   "cell_type": "code",
   "execution_count": 23,
   "id": "36478464-39ee-485c-9f3f-6a4e458dbc9c",
   "metadata": {},
   "outputs": [
    {
     "data": {
      "text/plain": [
       "[{'role': 'system',\n",
       "  'content': '\\nYou are a snarkyassistant that analyzes the contents of a website,\\nand provides a short, snarky, humorous summary, ignoring text that might be navigation related.\\nRespond in markdown. Do not wrap the markdown in a code block - respond just with the markdown.\\n'},\n",
       " {'role': 'user',\n",
       "  'content': '\\nHere are the contents of a website.\\nProvide a short summary of this website.\\nIf it includes news or announcements, then summarize these too.\\n\\nHome - Edward Donner\\n\\nHome\\nConnect Four\\nOutsmart\\nAn arena that pits LLMs against each other in a battle of diplomacy and deviousness\\nAbout\\nPosts\\nWell, hi there.\\nI’m Ed. I like writing code and experimenting with LLMs, and hopefully you’re here because you do too. I also enjoy DJing (but I’m badly out of practice), amateur electronic music production (\\nvery\\namateur) and losing myself in\\nHacker News\\n, nodding my head sagely to things I only half understand.\\nI’m the co-founder and CTO of\\nNebula.io\\n. We’re applying AI to a field where it can make a massive, positive impact: helping people discover their potential and pursue their reason for being. Recruiters use our product today to source, understand, engage and manage talent. I’m previously the founder and CEO of AI startup untapt,\\nacquired in 2021\\n.\\nWe work with groundbreaking, proprietary LLMs verticalized for talent, we’ve\\npatented\\nour matching model, and our award-winning platform has happy customers and tons of press coverage.\\nConnect\\nwith me for more!\\nSeptember 15, 2025\\nAI in Production: Gen AI and Agentic AI on AWS at scale\\nMay 28, 2025\\nConnecting my courses – become an LLM expert and leader\\nMay 18, 2025\\n2025 AI Executive Briefing\\nApril 21, 2025\\nThe Complete Agentic AI Engineering Course\\nNavigation\\nHome\\nConnect Four\\nOutsmart\\nAn arena that pits LLMs against each other in a battle of diplomacy and deviousness\\nAbout\\nPosts\\nGet in touch\\ned [at] edwarddonner [dot] com\\nwww.edwarddonner.com\\nFollow me\\nLinkedIn\\nTwitter\\nFacebook\\nSubscribe to newsletter\\nType your email…\\nSubscribe'}]"
      ]
     },
     "execution_count": 23,
     "metadata": {},
     "output_type": "execute_result"
    }
   ],
   "source": [
    "# Try this out, and then try for a few more websites\n",
    "\n",
    "messages_for(ed)"
   ]
  },
  {
   "cell_type": "markdown",
   "id": "16f49d46-bf55-4c3e-928f-68fc0bf715b0",
   "metadata": {},
   "source": [
    "## Time to bring it together - the API for OpenAI is very simple!"
   ]
  },
  {
   "cell_type": "code",
   "execution_count": 24,
   "id": "905b9919-aba7-45b5-ae65-81b3d1d78e34",
   "metadata": {},
   "outputs": [],
   "source": [
    "# And now: call the OpenAI API. You will get very familiar with this!\n",
    "\n",
    "def summarize(url):\n",
    "    website = fetch_website_contents(url)\n",
    "    response = openai.chat.completions.create(\n",
    "        model = \"gpt-4.1-mini\",\n",
    "        messages = messages_for(website)\n",
    "    )\n",
    "    return response.choices[0].message.content"
   ]
  },
  {
   "cell_type": "code",
   "execution_count": 25,
   "id": "05e38d41-dfa4-4b20-9c96-c46ea75d9fb5",
   "metadata": {},
   "outputs": [
    {
     "data": {
      "text/plain": [
       "\"# Edward Donner's Website: The Snark Edition\\n\\nWelcome to the digital lair of Ed, a self-professed code geek, DJ dropout, and electronic music enthusiast who’s still figuring out how to adult in AI. He’s the CTO and co-founder of Nebula.io, where AI meets HR to actually make talent sourcing less soul-crushing. Fun fact: he once founded another AI startup, got it acquired, and hasn’t looked back.\\n\\nIf you’re into Large Language Models (LLMs) battling in shady diplomacy matches (see: *Outsmart*), or want to be an LLM overlord via his courses, you’re in the right place. Upcoming and recent AI events, courses, and executive briefings span back to April 2025—because Ed likes to keep you in the AI loop.\\n\\nNewsflash: Ed’s got a patented matching model (fancy!), a press-worthy product, and a newsletter begging for your email.\\n\\nWant tech wisdom wrapped in cheek? Ed’s your guy. Just don’t ask him to DJ.\""
      ]
     },
     "execution_count": 25,
     "metadata": {},
     "output_type": "execute_result"
    }
   ],
   "source": [
    "summarize(\"https://edwarddonner.com\")"
   ]
  },
  {
   "cell_type": "code",
   "execution_count": 26,
   "id": "3d926d59-450e-4609-92ba-2d6f244f1342",
   "metadata": {},
   "outputs": [],
   "source": [
    "# A function to display this nicely in the output, using markdown\n",
    "\n",
    "def display_summary(url):\n",
    "    summary = summarize(url)\n",
    "    display(Markdown(summary))"
   ]
  },
  {
   "cell_type": "code",
   "execution_count": 27,
   "id": "3018853a-445f-41ff-9560-d925d1774b2f",
   "metadata": {},
   "outputs": [
    {
     "data": {
      "text/markdown": [
       "# Edward Donner’s Brain Dump & LLM Playground\n",
       "\n",
       "Ed here is a code jockey and LLM experimenter, DJ wannabe, and Hacker News nodder who founded some AI startups (one got snatched up in 2021). He’s now CTO of Nebula.io, where AI helps recruiters avoid hiring nightmares by matching talent better than your office psychic.\n",
       "\n",
       "Highlights:\n",
       "- Hosts a cheeky LLM Battle Royale called *Outsmart*, where AI models try to out-sneak each other.\n",
       "- Publishes deep-dive AI courses and executive briefings, because why keep the genius to himself?\n",
       "- Latest announcements include AI-in-production tips, leadership courses for LLM whisperers, and that ever-elusive complete Agentic AI course.\n",
       "\n",
       "In short: if you want a mix of serious AI muscle flex and some nerdy fun, Ed’s your guy."
      ],
      "text/plain": [
       "<IPython.core.display.Markdown object>"
      ]
     },
     "metadata": {},
     "output_type": "display_data"
    }
   ],
   "source": [
    "display_summary(\"https://edwarddonner.com\")"
   ]
  },
  {
   "cell_type": "markdown",
   "id": "b3bcf6f4-adce-45e9-97ad-d9a5d7a3a624",
   "metadata": {},
   "source": [
    "# Let's try more websites\n",
    "\n",
    "Note that this will only work on websites that can be scraped using this simplistic approach.\n",
    "\n",
    "Websites that are rendered with Javascript, like React apps, won't show up. See the community-contributions folder for a Selenium implementation that gets around this. You'll need to read up on installing Selenium (ask ChatGPT!)\n",
    "\n",
    "Also Websites protected with CloudFront (and similar) may give 403 errors - many thanks Andy J for pointing this out.\n",
    "\n",
    "But many websites will work just fine!"
   ]
  },
  {
   "cell_type": "code",
   "execution_count": 28,
   "id": "45d83403-a24c-44b5-84ac-961449b4008f",
   "metadata": {},
   "outputs": [
    {
     "data": {
      "text/markdown": [
       "Ah, CNN—a sprawling digital buffet of news, ads, and just enough video buffering to remind you that patience is a virtue. They’ve got everything: US politics, global drama, business buzz, health tips, celebrity scoop, and more wars than you can shake a stick at (Ukraine-Russia, Israel-Hamas, you name it). \n",
       "\n",
       "Their ad feedback form insists on knowing how much those pesky ads ruined your day, which is cute. Also, you can subscribe, watch live TV, listen to podcasts, and follow topics as obsessively as you stalk an ex on social media. Honestly, if news were a party, CNN is that loud, overstuffed house everyone shows up to—sometimes for info, sometimes just to see the chaos."
      ],
      "text/plain": [
       "<IPython.core.display.Markdown object>"
      ]
     },
     "metadata": {},
     "output_type": "display_data"
    }
   ],
   "source": [
    "display_summary(\"https://cnn.com\")"
   ]
  },
  {
   "cell_type": "code",
   "execution_count": 31,
   "id": "75e9fd40-b354-4341-991e-863ef2e59db7",
   "metadata": {},
   "outputs": [
    {
     "data": {
      "text/markdown": [
       "# Anthropic Website — TL;DR with a Side of Sass\n",
       "\n",
       "Anthropic is basically the AI nerds who care *a lot* about playing it safe while building fancy language models. They toss around names like Claude, Claude Sonnet 4.5, and Claude Haiku 4.5 like they’re musical instruments, but nope, those are their AI models powering everything from coding help to agent tasks.\n",
       "\n",
       "The company’s vibe: AI is powerful and scary, so let’s be super responsible and thoughtful with it. They’re a public benefit corporation—fancy for “we care about the world, not just cash.”\n",
       "\n",
       "**Announcements?**  \n",
       "- Claude Sonnet 4.5 is the “best model in the world” for coding and computer use. Bold claim, Anthropic, bold claim.  \n",
       "- Claude Haiku 4.5 is also out, managing your AI context like a pro.\n",
       "\n",
       "Basically, if you want AI that tries to keep you from accidentally unleashing Skynet, Anthropic’s your crew. And if you want to try their Claude models... they *really* want you to. Repeated “Try Claude” buttons everywhere. Can't miss it."
      ],
      "text/plain": [
       "<IPython.core.display.Markdown object>"
      ]
     },
     "metadata": {},
     "output_type": "display_data"
    }
   ],
   "source": [
    "display_summary(\"https://anthropic.com\")"
   ]
  },
  {
   "cell_type": "markdown",
   "id": "c951be1a-7f1b-448f-af1f-845978e47e2c",
   "metadata": {},
   "source": [
    "<table style=\"margin: 0; text-align: left;\">\n",
    "    <tr>\n",
    "        <td style=\"width: 150px; height: 150px; vertical-align: middle;\">\n",
    "            <img src=\"../assets/business.jpg\" width=\"150\" height=\"150\" style=\"display: block;\" />\n",
    "        </td>\n",
    "        <td>\n",
    "            <h2 style=\"color:#181;\">Business applications</h2>\n",
    "            <span style=\"color:#181;\">In this exercise, you experienced calling the Cloud API of a Frontier Model (a leading model at the frontier of AI) for the first time. We will be using APIs like OpenAI at many stages in the course, in addition to building our own LLMs.\n",
    "\n",
    "More specifically, we've applied this to Summarization - a classic Gen AI use case to make a summary. This can be applied to any business vertical - summarizing the news, summarizing financial performance, summarizing a resume in a cover letter - the applications are limitless. Consider how you could apply Summarization in your business, and try prototyping a solution.</span>\n",
    "        </td>\n",
    "    </tr>\n",
    "</table>\n",
    "\n",
    "<table style=\"margin: 0; text-align: left;\">\n",
    "    <tr>\n",
    "        <td style=\"width: 150px; height: 150px; vertical-align: middle;\">\n",
    "            <img src=\"../assets/important.jpg\" width=\"150\" height=\"150\" style=\"display: block;\" />\n",
    "        </td>\n",
    "        <td>\n",
    "            <h2 style=\"color:#900;\">Before you continue - now try yourself</h2>\n",
    "            <span style=\"color:#900;\">Use the cell below to make your own simple commercial example. Stick with the summarization use case for now. Here's an idea: write something that will take the contents of an email, and will suggest an appropriate short subject line for the email. That's the kind of feature that might be built into a commercial email tool.</span>\n",
    "        </td>\n",
    "    </tr>\n",
    "</table>"
   ]
  },
  {
   "cell_type": "code",
   "execution_count": 6,
   "id": "00743dac-0e70-45b7-879a-d7293a6f68a6",
   "metadata": {},
   "outputs": [
    {
     "name": "stdout",
     "output_type": "stream",
     "text": [
      "Overall impression\n",
      "- Strong technical breadth: backend, APIs, cloud, IaC, test automation, and GenAI projects. Clear impact in several bullets.\n",
      "- Quantified outcomes: good use of metrics (e.g., latency reductions, deployment time, test coverage). This is a major strength.\n",
      "- Areas to tighten: formatting consistency, clarity in education, and making the resume more ATS-friendly and recruiter-ready. Some bullets are long or cluttered; a few numbers may read as unrealistic unless they’re backed by context.\n",
      "- Targeting: great foundation for backend/Cloud/GenAI roles. Consider adding a short summary and tailoring bullets toward the specific job description (e.g., payments, data pipelines, security, scalability).\n",
      "\n",
      "Section-by-section feedback and concrete improvements\n",
      "\n",
      "1) Header / Contact\n",
      "- Pros: includes email, phone, LinkedIn, GitHub. Good to have location.\n",
      "- Improvements:\n",
      "  - Replace “USA” with a plausible, scannable location (city/state and country). Example: “San Jose, CA, USA” or “San Jose, CA, USA (Remote possible)”.\n",
      "  - Ensure all links are clickable in digital formats. Consider making the LinkedIn and GitHub URLs clean (e.g., linkedin.com/in/SriVinayA, github.com/SriVinayA) and consistent in capitalization.\n",
      "  - Fix any typographical quirks (e.g., non-ASCII characters like eﬃciency). Use standard ASCII “efficiency.”\n",
      "\n",
      "2) Summary/Profile (missing but highly recommended)\n",
      "- Why add: a 2–3 line summary helps ATS and recruiters quickly understand fit.\n",
      "- Suggested content:\n",
      "  - Role focus (Backend Engineer / Cloud/GenAI Solutions)\n",
      "  - 5+ years of experience with Java, Python, Go; microservices, RESTful APIs, CI/CD, AWS/Azure/GCP\n",
      "  - Notable strengths (GenAI integrations, data processing, high-availability systems)\n",
      "  - A line about target roles (e.g., Backend Engineer in FinTech/AI/Cloud)\n",
      "\n",
      "3) Experience (the core)\n",
      "General notes\n",
      "- Your bullets are strong and metric-driven. Tighten for readability and consistency.\n",
      "- Maintain past-tense for all bullets (these are past roles). You mostly do this, but check every bullet.\n",
      "- Start each bullet with a strong action verb, then describe the impact and, where possible, the business outcome.\n",
      "- Where numbers appear, add a bit of context (e.g., “peak load” or “average latency”) to avoid implying improbable figures if not already contextualized.\n",
      "\n",
      "Section-specific suggestions\n",
      "\n",
      "A. Software Engineer, Dosti Global (Jan 2023 - Aug 2023)\n",
      "Current bullets:\n",
      "- Led the end-to-end development of a new data processing module using Python and Flask, improving data handling eﬃciency by 20%.\n",
      "- Designed and implemented scalable RESTful APIs that served as the backbone for a new client-facing web application, successfully handling over 10,000 requests per minute.\n",
      "- Collaborated within a 5-person Agile team to define project requirements, design software architecture, and deliver key features, reducing time-to-market by 15%.\n",
      "\n",
      "Improved suggestions:\n",
      "- Led end-to-end design and development of a Python/Flask data processing module, increasing data throughput/eﬃciency by 20% and reducing processing latency.\n",
      "- Architected and deployed scalable RESTful APIs for a client-facing web app, supporting peak loads of 10k+ requests per minute with sub-200ms response times.\n",
      "- Collaborated in a 5-person Agile team to define requirements and software architecture, delivering features 15% faster to market.\n",
      "\n",
      "Optional enhancements:\n",
      "- Mention tech stack specifics (e.g., SQL/NoSQL DBs, ORM, messaging).\n",
      "- Add any security or reliability improvements (e.g., error handling, retries, monitoring).\n",
      "\n",
      "B. Software Development Engineer, Mastercard (Sep 2021 - Jan 2023)\n",
      "Current bullets:\n",
      "- Developed and maintained high-volume, low-latency backend services for critical payment processing systems using Java and Spring Boot, supporting millions of daily transactions.\n",
      "- Engineered and managed CI/CD pipelines using Jenkins and Docker, automating build, testing, and deployment pro-cesses which reduced deployment time by 30%.\n",
      "- Optimized complex SQL queries and implemented database indexing strategies that decreased application response time by 25%.\n",
      "- Managed version control and collaborative development workflows using Git, participating in rigorous code reviews to maintain high code quality and system stability.\n",
      "\n",
      "Improved suggestions (tighten and align with business impact):\n",
      "- Built and maintained high-volume, low-latency Java/Spring Boot backend services for payment processing, enabling millions of daily transactions with strict SLA adherence.\n",
      "- Implemented end-to-end CI/CD pipelines (Jenkins, Docker) reducing deployment time by ~30% and increasing release reliability.\n",
      "- Optimized SQL queries and indexing strategies, reducing average response time by 25% and improving query throughput under load.\n",
      "- Led code reviews and Git workflows to improve code quality, reduce defect escape rate, and strengthen system stability.\n",
      "\n",
      "Optional enhancements:\n",
      "- If applicable, mention security standards (PCI DSS, encryption at rest/in transit) or observability (metrics, tracing) you contributed to.\n",
      "\n",
      "C. Project Engineer, Wipro (Sep 2020 - Sep 2021)\n",
      "Current bullets:\n",
      "- Designed and implemented a robust test automation framework from the ground up using Java, Selenium WebDriver, and TestNG, which reduced manual testing eﬀort by 60%.\n",
      "- Authored, executed, and maintained over 200 automated test scripts for regression and functional testing, increasing test coverage by 40%.\n",
      "- Integrated automated test suites into the Jenkins CI/CD pipeline, enabling early defect detection and ensuring higher code quality before production releases.\n",
      "- Collaborated closely with the development team to identify, log, and resolve bugs, contributing to a 25% reduction in post-release defects.\n",
      "\n",
      "Improved suggestions:\n",
      "- Built a Java-based test automation framework (Selenium WebDriver, TestNG) that cut manual testing effort by 60%.\n",
      "- Created and maintained 200+ automated test scripts for regression/functional testing, boosting test coverage by 40%.\n",
      "- Integrated automation into Jenkins-based CI/CD pipeline, enabling early defect detection and higher pre-release quality.\n",
      "- Partnered with development to triage and resolve defects, reducing post-release defects by 25%.\n",
      "\n",
      "Notes:\n",
      "- Consider adding a line about automation framework components (e.g., page object model, parallel test execution) if relevant.\n",
      "- If you have any notable outcomes (e.g., faster release cycles, customer impact), include them.\n",
      "\n",
      "4) Projects (strengths)\n",
      "GenAI-Powered Career Companion\n",
      "- Great project to showcase GenAI, microservices, and cloud deployment.\n",
      "- Ensure consistency in tech naming and avoid overloading bullets; provide concrete outcomes if possible.\n",
      "\n",
      "Suggestions to strengthen:\n",
      "- Add a measurable outcome if you have one (e.g., “reduced resume tailoring time by X%” or “cut interview prep time in half for users”).\n",
      "- Clarify architecture succinctly: “microservices with Next.js frontend and FastAPI backend; containerized via Docker; deployed on AWS (RDS, Cognito, S3).”\n",
      "- Mention security/compliance considerations if relevant (e.g., user data handling, authentication with Cognito).\n",
      "\n",
      "Automated AWS Infrastructure & Data Stream Testing\n",
      "- Solid project showing IaC and data streaming testing.\n",
      "\n",
      "Suggestions:\n",
      "- Make the impact explicit: “validated end-to-end data integrity for Kinesis stream with 99.9% accuracy under load.”\n",
      "- Improve readability by splitting into two bullets rather than a long paragraph.\n",
      "\n",
      "5) Skills\n",
      "- Current list is comprehensive, but formatting can be tightened for readability and ATS.\n",
      "- Group into clean categories and keep consistent terminology.\n",
      "\n",
      "Suggested structure:\n",
      "- Languages: Java, Python, Go, JavaScript, SQL\n",
      "- Backend/Microservices: Spring Boot, Flask, FastAPI, RESTful APIs, Microservices\n",
      "- Databases: PostgreSQL, MySQL, MongoDB\n",
      "- Cloud & DevOps: AWS (EC2, S3, RDS, VPC, Kinesis), GCP, Azure, Terraform, Docker, Kubernetes, Jenkins, Git, CI/CD, Python Boto3\n",
      "- AI/ML: Generative AI, LLMs (OpenAI GPT-4), NLP\n",
      "- Testing: Selenium WebDriver, JUnit, TestNG, Mockito\n",
      "- Methodologies: Agile, Scrum, TDD\n",
      "\n",
      "Tips:\n",
      "- Remove redundancy (e.g., “CI/CD” appears in multiple bullets; keep in skills once).\n",
      "- Avoid overly long lines; keep bullets 1–2 lines each in this section.\n",
      "\n",
      "6) Education\n",
      "- Current formatting is a bit confusing and inconsistent.\n",
      "- Clarify degrees, institutions, locations, and graduation dates clearly.\n",
      "- If you’re still in school or have an expected date, mark as “Expected May 2025” or “May 2025.”\n",
      "- Include relevant coursework or projects if space allows (especially courses related to software design, distributed systems, AI).\n",
      "- Suggested clean formatting:\n",
      "\n",
      "Education\n",
      "- San Jose State University, San Jose, CA\n",
      "  Master of Science in Computer Software Engineering\n",
      "  Expected May 2025\n",
      "- Sathyabama Institute of Science and Technology, Chennai, India\n",
      "  [Degree, e.g., B.Tech in Computer Science] — May 2020\n",
      "\n",
      "Notes:\n",
      "- If the second institution is a prior degree, list it with degree name and year. If it’s a different country/college, keep the formatting consistent.\n",
      "\n",
      "7) Formatting, readability, and ATS considerations\n",
      "- Consistency: standardize punctuation, capitalization, and hyphenation. Replace fancy ligatures with standard characters (e.g., “eﬃciency” -> “efficiency”).\n",
      "- Length: with 3–4 roles and multiple projects, aim for 1–2 pages depending on space. If your experience is 5–7+ years, 2 pages is reasonable. If 3–4 roles and projects, 1 page may suffice after trimming.\n",
      "- Bullets: keep bullets concise (1–2 lines each). Long bullets can be split into two bullets for readability.\n",
      "- Active voice: you largely do this, but ensure every bullet starts with a strong verb.\n",
      "- Consistency in tense: past tense for past roles; present tense only for current role (if any) or remove to maintain consistency.\n",
      "- Quantification credibility: ensure numbers are plausible and well-explained. If any number feels large, provide context (e.g., “under load of X TPS,” “peak 10k req/min during load test,” etc.).\n",
      "- ATS keywords: align with target roles. Include terms like “PCI DSS,” “authentication/authorization,” “observability,” “distributed systems,” “MLOps” if relevant; adapt to each job description.\n",
      "\n",
      "Concrete rewrite examples (before vs. after)\n",
      "\n",
      "- Experience bullet rewrite (Dosti Global)\n",
      "Before:\n",
      "- Led the end-to-end development of a new data processing module using Python and Flask, improving data handling eﬃciency by 20%.\n",
      "\n",
      "After:\n",
      "- Led end-to-end design and development of a Python/Flask data processing module, increasing data throughput by 20% and reducing processing latency.\n",
      "\n",
      "- Experience bullet rewrite (Mastercard)\n",
      "Before:\n",
      "- Engineered and managed CI/CD pipelines using Jenkins and Docker, automating build, testing, and deployment pro-cesses which reduced deployment time by 30%.\n",
      "\n",
      "After:\n",
      "- Built and maintained CI/CD pipelines (Jenkins, Docker) that automated builds, tests, and deployments, reducing deployment time by 30%.\n",
      "\n",
      "- Projects bullet rewrite (GenAI-Powered Career Companion)\n",
      "Before:\n",
      "- Architected and developed a GenAI career platform using a microservices architecture with a Next.js frontend and Python (FastAPI) services.\n",
      "\n",
      "After:\n",
      "- Architected a GenAI-powered career platform with a Next.js frontend and FastAPI-based microservices; containerized with Docker and deployed on AWS (RDS, Cognito, S3) for scalable, secure access.\n",
      "\n",
      "What to add next (optional)\n",
      "- Certifications (if any): AWS Certified Solutions Architect, Google Cloud Professional Data Engineer, Certified Kubernetes Administrator, etc.\n",
      "- Awards or open-source contributions related to your tech stack.\n",
      "- A brief “Summary” at the top to frame your experience toward backend/AI/Cloud roles.\n",
      "- A link to a portfolio or a slide deck if you have one.\n",
      "\n",
      "Final quick checklist\n",
      "- Clean up education section formatting and dates.\n",
      "- Add a concise professional summary at the top.\n",
      "- Reformat Skills into clean categories with consistent naming.\n",
      "- Shorten long bullets and ensure each starts with a strong action verb, followed by impact and metrics.\n",
      "- Make sure numbers have context and are credible; if uncertain, adjust to realistic ranges or provide a brief qualifier.\n",
      "- Ensure a 1-page resume if you’re targeting roles that emphasize speed and breadth, or 2 pages if you want to show depth and multiple projects.\n",
      "\n",
      "If you want, I can produce a fully rewritten, one-page version tailored to a specific target (e.g., Backend/Cloud Engineer in FinTech or GenAI-focused backend roles). Just share the target job description or industry, and I’ll tailor the language, metrics, and ordering accordingly.\n"
     ]
    }
   ],
   "source": [
    "# Step 1: Create your prompts\n",
    "\n",
    "system_prompt = \"act as an IQ 160 resume reviewer who provides detailed feedback on how to improve resumes.\"\n",
    "user_prompt = \"\"\"\n",
    "    Please review the following resume and provide detailed feedback on how to improve it:\n",
    "    \n",
    "    Vinay Appari\n",
    "srivinay.appari@sjsu.edu | (669) 288-1604 | USA | linkedin.com/in/SriVinayA | github.com/SriVinayA\n",
    "EXPERIENCE\n",
    "Software Engineer, Dosti Global Jan 2023 - Aug 2023\n",
    "• Led the end-to-end development of a new data processing module using Python and Flask, improving data handling\n",
    "eﬃciency by 20%.\n",
    "• Designed and implemented scalable RESTful APIs that served as the backbone for a new client-facing web application,\n",
    "successfully handling over 10,000 requests per minute.\n",
    "• Collaborated within a 5-person Agile team to define project requirements, design software architecture, and deliver key\n",
    "features, reducing time-to-market by 15%.\n",
    "Software Development Engineer, Mastercard Sep 2021 - Jan 2023\n",
    "• Developed and maintained high-volume, low-latency backend services for critical payment processing systems using\n",
    "Java and Spring Boot, supporting millions of daily transactions.\n",
    "• Engineered and managed CI/CD pipelines using Jenkins and Docker, automating build, testing, and deployment pro-\n",
    "cesses which reduced deployment time by 30%.\n",
    "• Optimized complex SQL queries and implemented database indexing strategies that decreased application response\n",
    "time by 25%.\n",
    "• Managed version control and collaborative development workflows using Git, participating in rigorous code reviews to\n",
    "maintain high code quality and system stability.\n",
    "Project Engineer, Wipro Sep 2020 - Sep 2021\n",
    "• Designed and implemented a robust test automation framework from the ground up using Java, Selenium WebDriver,\n",
    "and TestNG, which reduced manual testing eﬀort by 60%.\n",
    "• Authored, executed, and maintained over 200 automated test scripts for regression and functional testing, increasing\n",
    "test coverage by 40%.\n",
    "• Integrated automated test suites into the Jenkins CI/CD pipeline, enabling early defect detection and ensuring higher\n",
    "code quality before production releases.\n",
    "• Collaborated closely with the development team to identify, log, and resolve bugs, contributing to a 25% reduction in\n",
    "post-release defects.\n",
    "PROJECTS\n",
    "GenAI-Powered Career Companion | Next.js, Python, PostgreSQL, AWS, Docker, GenAI (GPT-4)\n",
    "• Architected and developed a GenAI career platform using a microservices architecture with a Next.js frontend and\n",
    "Python (FastAPI) services.\n",
    "• Engineered core Generative AI features by integrating the OpenAI GPT-4 LLM for on-the-fly resume tailoring and\n",
    "building an interactive mock interviewer with real-time feedback.\n",
    "• Deployed the containerized (Docker) application on AWS, utilizing RDS (PostgreSQL) for the database, Cognito for\n",
    "secure authentication, and S3 for file storage.\n",
    "• Built an automated job scraping pipeline using Python and Selenium that processed over 1,000 job listings daily, feeding\n",
    "fresh data into the platform.\n",
    "Automated AWS Infrastructure & Data Stream Testing | Terraform, AWS (VPC, Kinesis), Python (Boto3 )\n",
    "• Utilized Terraform to define and deploy a secure, multi-tier AWS VPC with custom public/private subnets, security\n",
    "groups, and NACLs, establishing a reusable Infrastructure as Code (IaC) template.\n",
    "• Developed a Python automation script with Boto3 to simulate real-time data producers and consumers for an AWS\n",
    "Kinesis data stream, validating end-to-end data integrity and processing.\n",
    "• Configured complex network routing with Internet and NAT Gateways to ensure secure, controlled internet access for\n",
    "resources within the private subnets.\n",
    "SKILLS\n",
    "Languages: Java, Python, Go (Golang), SQL, JavaScript\n",
    "Backend & Microservices: Spring Boot, Flask, FastAPI, RESTful APIs, Microservices\n",
    "Databases: PostgreSQL, MySQL, MongoDB\n",
    "Cloud & DevOps: AWS (EC2, S3, RDS, VPC, Kinesis), Azure, GCP, Terraform (IaC), Docker, Kubernetes, Jenkins,\n",
    "Git, CI/CD, Python Boto3\n",
    "AI/ML: Generative AI, LLMs (OpenAI GPT-4), Natural Language Processing\n",
    "Testing: Selenium WebDriver, JUnit, TestNG, Mockito\n",
    "Methodologies: Agile, Scrum, TDD\n",
    "Education\n",
    "San Jose State University | San Jose, CA Master of Science in Computer Software Engineering\n",
    "Sathyabama Institute of Science and Technology | Chennai, India May 2025\n",
    "May 2020\n",
    "\"\"\"\n",
    "\n",
    "# Step 2: Make the messages list\n",
    "\n",
    "messages = [\n",
    "    {\"role\": \"system\", \"content\":system_prompt},\n",
    "    {\"role\": \"user\", \"content\": user_prompt}    \n",
    "] # fill this in\n",
    "\n",
    "openai = OpenAI()\n",
    "# Step 3: Call OpenAI\n",
    "response = openai.chat.completions.create(model=\"gpt-5-nano\", messages=messages)\n",
    "\n",
    "# Step 4: print the result\n",
    "print(response.choices[0].message.content)"
   ]
  },
  {
   "cell_type": "markdown",
   "id": "36ed9f14-b349-40e9-a42c-b367e77f8bda",
   "metadata": {},
   "source": [
    "## An extra exercise for those who enjoy web scraping\n",
    "\n",
    "You may notice that if you try `display_summary(\"https://openai.com\")` - it doesn't work! That's because OpenAI has a fancy website that uses Javascript. There are many ways around this that some of you might be familiar with. For example, Selenium is a hugely popular framework that runs a browser behind the scenes, renders the page, and allows you to query it. If you have experience with Selenium, Playwright or similar, then feel free to improve the Website class to use them. In the community-contributions folder, you'll find an example Selenium solution from a student (thank you!)"
   ]
  },
  {
   "cell_type": "markdown",
   "id": "eeab24dc-5f90-4570-b542-b0585aca3eb6",
   "metadata": {},
   "source": [
    "# Sharing your code\n",
    "\n",
    "I'd love it if you share your code afterwards so I can share it with others! You'll notice that some students have already made changes (including a Selenium implementation) which you will find in the community-contributions folder. If you'd like add your changes to that folder, submit a Pull Request with your new versions in that folder and I'll merge your changes.\n",
    "\n",
    "If you're not an expert with git (and I am not!) then GPT has given some nice instructions on how to submit a Pull Request. It's a bit of an involved process, but once you've done it once it's pretty clear. As a pro-tip: it's best if you clear the outputs of your Jupyter notebooks (Edit >> Clean outputs of all cells, and then Save) for clean notebooks.\n",
    "\n",
    "Here are good instructions courtesy of an AI friend:  \n",
    "https://chatgpt.com/share/677a9cb5-c64c-8012-99e0-e06e88afd293"
   ]
  },
  {
   "cell_type": "code",
   "execution_count": null,
   "id": "f4484fcf-8b39-4c3f-9674-37970ed71988",
   "metadata": {},
   "outputs": [],
   "source": []
  }
 ],
 "metadata": {
  "kernelspec": {
   "display_name": "llm-engineering (3.12.12)",
   "language": "python",
   "name": "python3"
  },
  "language_info": {
   "codemirror_mode": {
    "name": "ipython",
    "version": 3
   },
   "file_extension": ".py",
   "mimetype": "text/x-python",
   "name": "python",
   "nbconvert_exporter": "python",
   "pygments_lexer": "ipython3",
   "version": "3.12.12"
  }
 },
 "nbformat": 4,
 "nbformat_minor": 5
}
